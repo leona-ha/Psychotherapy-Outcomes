{
 "cells": [
  {
   "cell_type": "code",
   "execution_count": 1,
   "metadata": {},
   "outputs": [],
   "source": [
    "import pandas as pd \n",
    "import numpy as np\n",
    "#from helpers import *\n",
    "#import coach_dicts\n",
    "import os\n",
    "\n",
    "#import seaborn as sns\n",
    "import matplotlib.pyplot as plt\n",
    "\n",
    "from sklearn import preprocessing\n",
    "from sklearn.preprocessing import MinMaxScaler\n",
    "from sklearn.preprocessing import LabelEncoder\n",
    "from sklearn.model_selection import train_test_split\n",
    "from sklearn.ensemble import RandomForestClassifier\n",
    "\n",
    "# Validation libraries\n",
    "from sklearn import metrics\n",
    "from sklearn.metrics import accuracy_score, recall_score, balanced_accuracy_score, precision_score, precision_recall_curve\n",
    "from sklearn.metrics import confusion_matrix, plot_confusion_matrix\n",
    "from sklearn.metrics import classification_report\n",
    "from sklearn.model_selection import train_test_split\n",
    "from sklearn.model_selection import KFold, cross_val_score\n",
    "from sklearn.metrics import log_loss, roc_curve, auc\n",
    "\n",
    "\n",
    "# Display plots inside the notebook\n",
    "%matplotlib inline\n",
    "\n",
    "# Ignore warning related to pandas_profiling\n",
    "import warnings\n",
    "warnings.filterwarnings('ignore') \n",
    "\n",
    "from pathlib import Path\n",
    "\n",
    "# Display all dataframe columns in outputs (it has 63 columns, which is wider than the notebook)\n",
    "# This sets it up to display with a horizontal scroll instead of hiding the middle columns\n",
    "pd.set_option('display.max_columns', 800) \n",
    "pd.set_option('display.max_colwidth', -1)\n",
    "pd.set_option('display.max_rows', 1800)"
   ]
  },
  {
   "cell_type": "code",
   "execution_count": 2,
   "metadata": {},
   "outputs": [],
   "source": [
    "path = os.environ.get(\"DATA_PATH\")"
   ]
  },
  {
   "cell_type": "code",
   "execution_count": 3,
   "metadata": {},
   "outputs": [],
   "source": [
    "data = \"001_evaluation_20201013_clean_unordered.csv\""
   ]
  },
  {
   "cell_type": "code",
   "execution_count": 4,
   "metadata": {},
   "outputs": [],
   "source": [
    "df = pd.read_csv(path + data, sep=\",\", low_memory = False)"
   ]
  },
  {
   "cell_type": "code",
   "execution_count": 5,
   "metadata": {},
   "outputs": [],
   "source": [
    "df.replace (' ', np.nan, inplace=True)"
   ]
  },
  {
   "cell_type": "code",
   "execution_count": 6,
   "metadata": {},
   "outputs": [
    {
     "data": {
      "text/plain": [
       "(13300, 1304)"
      ]
     },
     "execution_count": 6,
     "metadata": {},
     "output_type": "execute_result"
    }
   ],
   "source": [
    "df.shape"
   ]
  },
  {
   "cell_type": "code",
   "execution_count": 7,
   "metadata": {},
   "outputs": [
    {
     "data": {
      "text/plain": [
       "['accessCodeId',\n",
       " 'mtkId',\n",
       " 'codeEntered',\n",
       " 'registration',\n",
       " 'studyInfo',\n",
       " 'studyVariant',\n",
       " 'coach',\n",
       " 'problem',\n",
       " 'coach.note',\n",
       " 'dropout',\n",
       " 'M1_measurementPos',\n",
       " 'M2_measurementPos',\n",
       " 'M3_measurementPos',\n",
       " 'M4_measurementPos',\n",
       " 'M5_measurementPos',\n",
       " 'M6_measurementPos',\n",
       " 'M7_measurementPos',\n",
       " 'TI_score',\n",
       " 'TI_bip1',\n",
       " 'TI_bip2',\n",
       " 'TI_hyp.x',\n",
       " 'TI_MDE',\n",
       " 'TI_dyst',\n",
       " 'TI_MDE.x',\n",
       " 'TI_20.xx',\n",
       " 'TI_F20.8',\n",
       " 'TI_F25',\n",
       " 'TI_F22',\n",
       " 'TI_F23',\n",
       " 'TI_F29',\n",
       " 'TI_MDE_vr',\n",
       " 'TI_MDE_tr',\n",
       " 'TI_HYP_vr',\n",
       " 'TI_MAN_vr',\n",
       " 'TI_medik',\n",
       " 'TI_komm',\n",
       " 'TI_inkl',\n",
       " 'TI_rekrut',\n",
       " 'in_ther1',\n",
       " 'in_ther2',\n",
       " 'in_med1',\n",
       " 'in_med2',\n",
       " '1_module',\n",
       " '2_module',\n",
       " '3_module',\n",
       " '4_module',\n",
       " '5_module',\n",
       " '6_module',\n",
       " '7_module',\n",
       " 'POST_WL_screening_start',\n",
       " 'POST_screening_start',\n",
       " 'FU1_screening_start',\n",
       " 'FU2_screening_start',\n",
       " 'FU3_screening_start',\n",
       " '1_login',\n",
       " '2_login',\n",
       " '3_login',\n",
       " '4_login',\n",
       " '5_login',\n",
       " '6_login',\n",
       " '7_login',\n",
       " '1_login.duration',\n",
       " '2_login.duration',\n",
       " '3_login.duration',\n",
       " '4_login.duration',\n",
       " '5_login.duration',\n",
       " '6_login.duration',\n",
       " '7_login.duration',\n",
       " '1_feedback',\n",
       " '2_feedback',\n",
       " '3_feedback',\n",
       " '4_feedback',\n",
       " '5_feedback',\n",
       " '6_feedback',\n",
       " '7_feedback',\n",
       " '1_fb.duration',\n",
       " '2_fb.duration',\n",
       " '3_fb.duration',\n",
       " '4_fb.duration',\n",
       " '5_fb.duration',\n",
       " '6_fb.duration',\n",
       " '7_fb.duration',\n",
       " '1_fb.size',\n",
       " '2_fb.size',\n",
       " '3_fb.size',\n",
       " '4_fb.size',\n",
       " '5_fb.size',\n",
       " '6_fb.size',\n",
       " '7_fb.size',\n",
       " '1_reminder',\n",
       " '2_reminder',\n",
       " '3_reminder',\n",
       " '4_reminder',\n",
       " '5_reminder',\n",
       " '6_reminder',\n",
       " '7_reminder',\n",
       " '1_contact.unplanned',\n",
       " '2_contact.unplanned',\n",
       " '3_contact.unplanned',\n",
       " '4_contact.unplanned',\n",
       " '5_contact.unplanned',\n",
       " '6_contact.unplanned',\n",
       " '7_contact.unplanned',\n",
       " '1_letter',\n",
       " '2_letter',\n",
       " '7_letter',\n",
       " '1_letter.size',\n",
       " '2_letter.size',\n",
       " '7_letter.size',\n",
       " 'M3_planner.quantity',\n",
       " 'M4_planner.quantity',\n",
       " 'M5_planner.quantity',\n",
       " 'M6_planner.quantity',\n",
       " 'M7_planner.quantity',\n",
       " 'M3_diary.quantity',\n",
       " 'M4_diary.quantity',\n",
       " 'M5_diary.quantity',\n",
       " 'M6_diary.quantity',\n",
       " 'M7_diary.quantity',\n",
       " 'M3_positive.quantity',\n",
       " 'M4_positive.quantity',\n",
       " 'M5_positive.quantity',\n",
       " 'M6_positive.quantity',\n",
       " 'M7_positive.quantity',\n",
       " 'M5_1_nbt.duration',\n",
       " 'M5_2_nbt.duration',\n",
       " 'M5_3_nbt.duration',\n",
       " 'M6_1_nbt.duration',\n",
       " 'M6_2_nbt.duration',\n",
       " 'M6_3_nbt.duration',\n",
       " 'M5_1_nbt.duration.nobreaks',\n",
       " 'M5_2_nbt.duration.nobreaks',\n",
       " 'M5_3_nbt.duration.nobreaks',\n",
       " 'M6_1_nbt.duration.nobreaks',\n",
       " 'M6_2_nbt.duration.nobreaks',\n",
       " 'M6_3_nbt.duration.nobreaks',\n",
       " 'M5_1_nbt.breaks.count',\n",
       " 'M5_2_nbt.breaks.count',\n",
       " 'M5_3_nbt.breaks.count',\n",
       " 'M6_1_nbt.breaks.count',\n",
       " 'M6_2_nbt.breaks.count',\n",
       " 'M6_3_nbt.breaks.count',\n",
       " 'M5_1_1_nbt.answer',\n",
       " 'M5_1_2_nbt.answer',\n",
       " 'M5_1_3_nbt.answer',\n",
       " 'M5_1_4_nbt.answer',\n",
       " 'M5_1_5_nbt.answer',\n",
       " 'M5_1_6_nbt.answer',\n",
       " 'M5_1_7_nbt.answer',\n",
       " 'M5_1_8_nbt.answer',\n",
       " 'M5_1_9_nbt.answer',\n",
       " 'M5_1_10_nbt.answer',\n",
       " 'M5_2_1_nbt.answer',\n",
       " 'M5_2_2_nbt.answer',\n",
       " 'M5_2_3_nbt.answer',\n",
       " 'M5_2_4_nbt.answer',\n",
       " 'M5_2_5_nbt.answer',\n",
       " 'M5_2_6_nbt.answer',\n",
       " 'M5_2_7_nbt.answer',\n",
       " 'M5_2_8_nbt.answer',\n",
       " 'M5_2_9_nbt.answer',\n",
       " 'M5_2_10_nbt.answer',\n",
       " 'M5_3_1_nbt.answer',\n",
       " 'M5_3_2_nbt.answer',\n",
       " 'M5_3_3_nbt.answer',\n",
       " 'M5_3_4_nbt.answer',\n",
       " 'M5_3_5_nbt.answer',\n",
       " 'M5_3_6_nbt.answer',\n",
       " 'M5_3_7_nbt.answer',\n",
       " 'M5_3_8_nbt.answer',\n",
       " 'M5_3_9_nbt.answer',\n",
       " 'M5_3_10_nbt.answer',\n",
       " 'M6_1_1_nbt.answer',\n",
       " 'M6_1_2_nbt.answer',\n",
       " 'M6_1_3_nbt.answer',\n",
       " 'M6_1_4_nbt.answer',\n",
       " 'M6_1_5_nbt.answer',\n",
       " 'M6_2_1_nbt.answer',\n",
       " 'M6_2_2_nbt.answer',\n",
       " 'M6_2_3_nbt.answer',\n",
       " 'M6_2_4_nbt.answer',\n",
       " 'M6_2_5_nbt.answer',\n",
       " 'M6_3_1_nbt.answer',\n",
       " 'M6_3_2_nbt.answer',\n",
       " 'M6_3_3_nbt.answer',\n",
       " 'M6_3_4_nbt.answer',\n",
       " 'M6_3_5_nbt.answer',\n",
       " 'M6_protocol.quantity',\n",
       " 'M7_protocol.quantity',\n",
       " 'PRE_birth',\n",
       " 'PRE_sex',\n",
       " 'PRE_education',\n",
       " 'PRE_work',\n",
       " 'PRE_household',\n",
       " 'PRE_relation',\n",
       " 'PRE_residence',\n",
       " 'PRE_internet',\n",
       " 'PRE_height',\n",
       " 'PRE_weight',\n",
       " 'PRE_treatment',\n",
       " 'PRE_ambul1',\n",
       " 'PRE_ambul2',\n",
       " 'PRE_ambul3',\n",
       " 'PRE_ambul4',\n",
       " 'PRE_ambul5',\n",
       " 'PRE_ambul6',\n",
       " 'PRE_tagesk1',\n",
       " 'PRE_tagesk2',\n",
       " 'PRE_tagesk3',\n",
       " 'PRE_tagesk4',\n",
       " 'PRE_tagesk5',\n",
       " 'PRE_tagesk6',\n",
       " 'PRE_psychiat1',\n",
       " 'PRE_psychiat2',\n",
       " 'PRE_psychiat3',\n",
       " 'PRE_psychiat4',\n",
       " 'PRE_psychiat5',\n",
       " 'PRE_psychiat6',\n",
       " 'PRE_abspr1',\n",
       " 'PRE_abspr2',\n",
       " 'PRE_abspr3',\n",
       " 'PRE_PT_planned',\n",
       " 'PRE_support',\n",
       " 'PRE_supportType',\n",
       " 'PRE_kPT',\n",
       " 'PRE_kPT_comment',\n",
       " 'PRE_material',\n",
       " 'PRE_material_comments',\n",
       " 'PRE_ill',\n",
       " 'PRE_ill_comments',\n",
       " 'PRE_sickleave',\n",
       " 'PRE_sickleave_comments',\n",
       " 'PRE_doc',\n",
       " 'PRE_doc_comments',\n",
       " 'PRE_neurol',\n",
       " 'PRE_neurol_comments',\n",
       " 'PRE_selfhelp',\n",
       " 'PRE_selfhelp_comments',\n",
       " 'PRE_counsel',\n",
       " 'PRE_counsel_comments',\n",
       " 'PRE_therapy',\n",
       " 'PRE_therapy_comments',\n",
       " 'PRE_med',\n",
       " 'PRE_med_comments',\n",
       " 'PRE_hospital',\n",
       " 'PRE_hospital_comments',\n",
       " 'PRE_hos.other',\n",
       " 'PRE_hos.other_comments',\n",
       " 'PRE_bdi1',\n",
       " 'PRE_bdi2',\n",
       " 'PRE_bdi3',\n",
       " 'PRE_bdi4',\n",
       " 'PRE_bdi5',\n",
       " 'PRE_bdi6',\n",
       " 'PRE_bdi7',\n",
       " 'PRE_bdi8',\n",
       " 'PRE_bdi9',\n",
       " 'PRE_bdi10',\n",
       " 'PRE_bdi11',\n",
       " 'PRE_bdi12',\n",
       " 'PRE_bdi13',\n",
       " 'PRE_bdi14',\n",
       " 'PRE_bdi15',\n",
       " 'PRE_bdi16',\n",
       " 'PRE_bdi17',\n",
       " 'PRE_bdi18',\n",
       " 'PRE_bdi19',\n",
       " 'PRE_bdi20',\n",
       " 'PRE_bdi21',\n",
       " 'PRE_phqS1',\n",
       " 'PRE_phqS2',\n",
       " 'PRE_phqS3',\n",
       " 'PRE_phqS4',\n",
       " 'PRE_phqS5',\n",
       " 'PRE_phqS6',\n",
       " 'PRE_phqS7',\n",
       " 'PRE_phqS8',\n",
       " 'PRE_phqS9',\n",
       " 'PRE_phqS10',\n",
       " 'PRE_phqD1',\n",
       " 'PRE_phqD2',\n",
       " 'PRE_phqD3',\n",
       " 'PRE_phqD4',\n",
       " 'PRE_phqD5',\n",
       " 'PRE_phqD6',\n",
       " 'PRE_phqD7',\n",
       " 'PRE_phqD8',\n",
       " 'PRE_phqD9',\n",
       " 'PRE_gad1',\n",
       " 'PRE_gad2',\n",
       " 'PRE_gad3',\n",
       " 'PRE_gad4',\n",
       " 'PRE_gad5',\n",
       " 'PRE_gad6',\n",
       " 'PRE_gad7',\n",
       " 'PRE_phqZ',\n",
       " 'PRE_costa1',\n",
       " 'PRE_costa2',\n",
       " 'PRE_costa3',\n",
       " 'PRE_costa4',\n",
       " 'PRE_costa5',\n",
       " 'PRE_costa6',\n",
       " 'PRE_costa7',\n",
       " 'PRE_costa8',\n",
       " 'PRE_costa9',\n",
       " 'PRE_costa10',\n",
       " 'PRE_costa11',\n",
       " 'PRE_costa12',\n",
       " 'PRE_costa13',\n",
       " 'PRE_costa14',\n",
       " 'PRE_costa15',\n",
       " 'PRE_costa16',\n",
       " 'PRE_costa17',\n",
       " 'PRE_costa18',\n",
       " 'PRE_costa19',\n",
       " 'PRE_costa20',\n",
       " 'PRE_costa21',\n",
       " 'PRE_pathev1',\n",
       " 'PRE_pathev2',\n",
       " 'PRE_pathev3',\n",
       " 'PRE_pathev4',\n",
       " 'PRE_pathev5',\n",
       " 'PRE_pathev6',\n",
       " 'PRE_pathev7',\n",
       " 'PRE_pathev8',\n",
       " 'PRE_pathev9',\n",
       " 'PRE_pathev10',\n",
       " 'PRE_euheals1',\n",
       " 'PRE_euheals2',\n",
       " 'PRE_euheals3',\n",
       " 'PRE_ipqr1',\n",
       " 'PRE_ipqr2',\n",
       " 'PRE_ipqr3',\n",
       " 'PRE_ipqr4',\n",
       " 'PRE_ipqr5',\n",
       " 'PRE_ipqr6',\n",
       " 'PRE_ipqr7',\n",
       " 'PRE_ipqr8',\n",
       " 'PRE_ipqr9',\n",
       " 'PRE_ipqr10',\n",
       " 'PRE_ipqr11',\n",
       " 'PRE_ipqr12',\n",
       " 'PRE_ipqr13',\n",
       " 'PRE_ipqr14',\n",
       " 'PRE_ipqr15',\n",
       " 'PRE_ipqr16',\n",
       " 'PRE_ipqr17',\n",
       " 'PRE_ipqr18',\n",
       " 'PRE_eurohis1',\n",
       " 'PRE_eurohis2',\n",
       " 'PRE_eurohis3',\n",
       " 'PRE_eurohis4',\n",
       " 'PRE_eurohis5',\n",
       " 'PRE_eurohis6',\n",
       " 'PRE_eurohis7',\n",
       " 'PRE_eurohis8',\n",
       " 'PRE_imet1',\n",
       " 'PRE_imet2',\n",
       " 'PRE_imet3',\n",
       " 'PRE_imet4',\n",
       " 'PRE_imet5',\n",
       " 'PRE_imet6',\n",
       " 'PRE_imet7',\n",
       " 'PRE_imet8',\n",
       " 'PRE_imet9',\n",
       " 'PRE_imet10',\n",
       " 'PRE_bsss1',\n",
       " 'PRE_bsss2',\n",
       " 'PRE_bsss3',\n",
       " 'PRE_bsss4',\n",
       " 'PRE_bsss5',\n",
       " 'PRE_bsss6',\n",
       " 'PRE_bsss7',\n",
       " 'PRE_bsss8',\n",
       " 'PRE_bsss9',\n",
       " 'PRE_bsss10',\n",
       " 'PRE_bsss11',\n",
       " 'PRE_bsss12',\n",
       " 'PRE_bsss13',\n",
       " 'PRE_gpse1',\n",
       " 'PRE_gpse2',\n",
       " 'PRE_gpse3',\n",
       " 'PRE_gpse4',\n",
       " 'PRE_gpse5',\n",
       " 'PRE_gpse6',\n",
       " 'PRE_gpse7',\n",
       " 'PRE_gpse8',\n",
       " 'PRE_gpse9',\n",
       " 'PRE_gpse10',\n",
       " 'PRE_pvq1',\n",
       " 'PRE_pvq2',\n",
       " 'PRE_pvq3',\n",
       " 'PRE_pvq4',\n",
       " 'PRE_pvq5',\n",
       " 'PRE_pvq6',\n",
       " 'PRE_pvq7',\n",
       " 'PRE_pvq8',\n",
       " 'PRE_pvq9',\n",
       " 'PRE_pvq10',\n",
       " 'PRE_pvq11',\n",
       " 'PRE_pvq12',\n",
       " 'PRE_pvq13',\n",
       " 'PRE_pvq14',\n",
       " 'PRE_pvq15',\n",
       " 'PRE_pvq16',\n",
       " 'PRE_pvq17',\n",
       " 'PRE_pvq18',\n",
       " 'PRE_pvq19',\n",
       " 'PRE_pvq20',\n",
       " 'PRE_pvq21',\n",
       " 'POST_WL_material',\n",
       " 'POST_WL_material_comments',\n",
       " 'POST_WL_ill',\n",
       " 'POST_WL_ill_comments',\n",
       " 'POST_WL_sickleave',\n",
       " 'POST_WL_sickleave_comments',\n",
       " 'POST_WL_doc',\n",
       " 'POST_WL_doc_comments',\n",
       " 'POST_WL_neurol',\n",
       " 'POST_WL_neurol_comments',\n",
       " 'POST_WL_selfhelp',\n",
       " 'POST_WL_selfhelp_comments',\n",
       " 'POST_WL_counsel',\n",
       " 'POST_WL_counsel_comments',\n",
       " 'POST_WL_therapy',\n",
       " 'POST_WL_therapy_comments',\n",
       " 'POST_WL_med',\n",
       " 'POST_WL_med_comments',\n",
       " 'POST_WL_hospital',\n",
       " 'POST_WL_hospital_comments',\n",
       " 'POST_WL_hos.other',\n",
       " 'POST_WL_hos.other_comments',\n",
       " 'POST_WL_bdi1',\n",
       " 'POST_WL_bdi2',\n",
       " 'POST_WL_bdi3',\n",
       " 'POST_WL_bdi4',\n",
       " 'POST_WL_bdi5',\n",
       " 'POST_WL_bdi6',\n",
       " 'POST_WL_bdi7',\n",
       " 'POST_WL_bdi8',\n",
       " 'POST_WL_bdi9',\n",
       " 'POST_WL_bdi10',\n",
       " 'POST_WL_bdi11',\n",
       " 'POST_WL_bdi12',\n",
       " 'POST_WL_bdi13',\n",
       " 'POST_WL_bdi14',\n",
       " 'POST_WL_bdi15',\n",
       " 'POST_WL_bdi16',\n",
       " 'POST_WL_bdi17',\n",
       " 'POST_WL_bdi18',\n",
       " 'POST_WL_bdi19',\n",
       " 'POST_WL_bdi20',\n",
       " 'POST_WL_bdi21',\n",
       " 'POST_WL_phqS1',\n",
       " 'POST_WL_phqS2',\n",
       " 'POST_WL_phqS3',\n",
       " 'POST_WL_phqS4',\n",
       " 'POST_WL_phqS5',\n",
       " 'POST_WL_phqS6',\n",
       " 'POST_WL_phqS7',\n",
       " 'POST_WL_phqS8',\n",
       " 'POST_WL_phqS9',\n",
       " 'POST_WL_phqS10',\n",
       " 'POST_WL_phqD1',\n",
       " 'POST_WL_phqD2',\n",
       " 'POST_WL_phqD3',\n",
       " 'POST_WL_phqD4',\n",
       " 'POST_WL_phqD5',\n",
       " 'POST_WL_phqD6',\n",
       " 'POST_WL_phqD7',\n",
       " 'POST_WL_phqD8',\n",
       " 'POST_WL_phqD9',\n",
       " 'POST_WL_gad1',\n",
       " 'POST_WL_gad2',\n",
       " 'POST_WL_gad3',\n",
       " 'POST_WL_gad4',\n",
       " 'POST_WL_gad5',\n",
       " 'POST_WL_gad6',\n",
       " 'POST_WL_gad7',\n",
       " 'POST_WL_phqZ',\n",
       " 'POST_WL_costa1',\n",
       " 'POST_WL_costa2',\n",
       " 'POST_WL_costa3',\n",
       " 'POST_WL_costa4',\n",
       " 'POST_WL_costa5',\n",
       " 'POST_WL_costa6',\n",
       " 'POST_WL_costa7',\n",
       " 'POST_WL_costa8',\n",
       " 'POST_WL_costa9',\n",
       " 'POST_WL_costa10',\n",
       " 'POST_WL_costa11',\n",
       " 'POST_WL_costa12',\n",
       " 'POST_WL_costa13',\n",
       " 'POST_WL_costa14',\n",
       " 'POST_WL_costa15',\n",
       " 'POST_WL_costa16',\n",
       " 'POST_WL_costa17',\n",
       " 'POST_WL_costa18',\n",
       " 'POST_WL_costa19',\n",
       " 'POST_WL_costa20',\n",
       " 'POST_WL_costa21',\n",
       " 'POST_WL_pathev1',\n",
       " 'POST_WL_pathev2',\n",
       " 'POST_WL_pathev3',\n",
       " 'POST_WL_pathev4',\n",
       " 'POST_WL_pathev5',\n",
       " 'POST_WL_pathev6',\n",
       " 'POST_WL_pathev7',\n",
       " 'POST_WL_pathev8',\n",
       " 'POST_WL_pathev9',\n",
       " 'POST_WL_pathev10',\n",
       " 'POST_WL_euheals1',\n",
       " 'POST_WL_euheals2',\n",
       " 'POST_WL_euheals3',\n",
       " 'POST_WL_ipqr1',\n",
       " 'POST_WL_ipqr2',\n",
       " 'POST_WL_ipqr3',\n",
       " 'POST_WL_ipqr4',\n",
       " 'POST_WL_ipqr5',\n",
       " 'POST_WL_ipqr6',\n",
       " 'POST_WL_ipqr7',\n",
       " 'POST_WL_ipqr8',\n",
       " 'POST_WL_ipqr9',\n",
       " 'POST_WL_ipqr10',\n",
       " 'POST_WL_ipqr11',\n",
       " 'POST_WL_ipqr12',\n",
       " 'POST_WL_ipqr13',\n",
       " 'POST_WL_ipqr14',\n",
       " 'POST_WL_ipqr15',\n",
       " 'POST_WL_ipqr16',\n",
       " 'POST_WL_ipqr17',\n",
       " 'POST_WL_ipqr18',\n",
       " 'POST_WL_eurohis1',\n",
       " 'POST_WL_eurohis2',\n",
       " 'POST_WL_eurohis3',\n",
       " 'POST_WL_eurohis4',\n",
       " 'POST_WL_eurohis5',\n",
       " 'POST_WL_eurohis6',\n",
       " 'POST_WL_eurohis7',\n",
       " 'POST_WL_eurohis8',\n",
       " 'POST_WL_imet1',\n",
       " 'POST_WL_imet2',\n",
       " 'POST_WL_imet3',\n",
       " 'POST_WL_imet4',\n",
       " 'POST_WL_imet5',\n",
       " 'POST_WL_imet6',\n",
       " 'POST_WL_imet7',\n",
       " 'POST_WL_imet8',\n",
       " 'POST_WL_imet9',\n",
       " 'POST_WL_imet10',\n",
       " 'POST_WL_bsss1',\n",
       " 'POST_WL_bsss2',\n",
       " 'POST_WL_bsss3',\n",
       " 'POST_WL_bsss4',\n",
       " 'POST_WL_bsss5',\n",
       " 'POST_WL_bsss6',\n",
       " 'POST_WL_bsss7',\n",
       " 'POST_WL_bsss8',\n",
       " 'POST_WL_bsss9',\n",
       " 'POST_WL_bsss10',\n",
       " 'POST_WL_bsss11',\n",
       " 'POST_WL_bsss12',\n",
       " 'POST_WL_bsss13',\n",
       " 'POST_WL_gpse1',\n",
       " 'POST_WL_gpse2',\n",
       " 'POST_WL_gpse3',\n",
       " 'POST_WL_gpse4',\n",
       " 'POST_WL_gpse5',\n",
       " 'POST_WL_gpse6',\n",
       " 'POST_WL_gpse7',\n",
       " 'POST_WL_gpse8',\n",
       " 'POST_WL_gpse9',\n",
       " 'POST_WL_gpse10',\n",
       " 'M1_phqD1',\n",
       " 'M1_phqD2',\n",
       " 'M1_phqD3',\n",
       " 'M1_phqD4',\n",
       " 'M1_phqD5',\n",
       " 'M1_phqD6',\n",
       " 'M1_phqD7',\n",
       " 'M1_phqD8',\n",
       " 'M1_phqD9',\n",
       " 'M1_planer.duration',\n",
       " 'M1_diary.duration',\n",
       " 'M1_protocol.duration',\n",
       " 'M1_letter.duration',\n",
       " 'M3_phqD1',\n",
       " 'M3_phqD2',\n",
       " 'M3_phqD3',\n",
       " 'M3_phqD4',\n",
       " 'M3_phqD5',\n",
       " 'M3_phqD6',\n",
       " 'M3_phqD7',\n",
       " 'M3_phqD8',\n",
       " 'M3_phqD9',\n",
       " 'M3_costa1',\n",
       " 'M3_costa2',\n",
       " 'M3_costa3',\n",
       " 'M3_costa4',\n",
       " 'M3_costa5',\n",
       " 'M3_costa6',\n",
       " 'M3_costa7',\n",
       " 'M3_costa8',\n",
       " 'M3_costa9',\n",
       " 'M3_costa10',\n",
       " 'M3_costa11',\n",
       " 'M3_costa12',\n",
       " 'M3_costa13',\n",
       " 'M3_costa14',\n",
       " 'M3_costa15',\n",
       " 'M3_costa16',\n",
       " 'M3_costa17',\n",
       " 'M3_costa18',\n",
       " 'M3_costa19',\n",
       " 'M3_costa20',\n",
       " 'M3_costa21',\n",
       " 'M3_sewip1',\n",
       " 'M3_sewip2',\n",
       " 'M3_sewip3',\n",
       " 'M3_sewip4',\n",
       " 'M3_sewip5',\n",
       " 'M3_sewip6',\n",
       " 'M3_sewip7',\n",
       " 'M3_sewip8',\n",
       " 'M3_sewip9',\n",
       " 'M3_sewip10',\n",
       " 'M3_sewip11',\n",
       " 'M3_sewip12',\n",
       " 'M3_sewip13',\n",
       " 'M3_sewip14',\n",
       " 'M3_sewip15',\n",
       " 'M3_sewip16',\n",
       " 'M3_sewip17',\n",
       " 'M3_sewip18',\n",
       " 'M3_sewip19',\n",
       " 'M3_sewip20',\n",
       " 'M3_sewip21',\n",
       " 'M3_planer.duration',\n",
       " 'M3_diary.duration',\n",
       " 'M3_protocol.duration',\n",
       " 'M3_letter.duration',\n",
       " 'M4_phqD1',\n",
       " 'M4_phqD2',\n",
       " 'M4_phqD3',\n",
       " 'M4_phqD4',\n",
       " 'M4_phqD5',\n",
       " 'M4_phqD6',\n",
       " 'M4_phqD7',\n",
       " 'M4_phqD8',\n",
       " 'M4_phqD9',\n",
       " 'M4_planer.duration',\n",
       " 'M4_diary.duration',\n",
       " 'M4_protocol.duration',\n",
       " 'M4_letter.duration',\n",
       " 'M5_phqD1',\n",
       " 'M5_phqD2',\n",
       " 'M5_phqD3',\n",
       " 'M5_phqD4',\n",
       " 'M5_phqD5',\n",
       " 'M5_phqD6',\n",
       " 'M5_phqD7',\n",
       " 'M5_phqD8',\n",
       " 'M5_phqD9',\n",
       " 'M5_costa1',\n",
       " 'M5_costa2',\n",
       " 'M5_costa3',\n",
       " 'M5_costa4',\n",
       " 'M5_costa5',\n",
       " 'M5_costa6',\n",
       " 'M5_costa7',\n",
       " 'M5_costa8',\n",
       " 'M5_costa9',\n",
       " 'M5_costa10',\n",
       " 'M5_costa11',\n",
       " 'M5_costa12',\n",
       " 'M5_costa13',\n",
       " 'M5_costa14',\n",
       " 'M5_costa15',\n",
       " 'M5_costa16',\n",
       " 'M5_costa17',\n",
       " 'M5_costa18',\n",
       " 'M5_costa19',\n",
       " 'M5_costa20',\n",
       " 'M5_costa21',\n",
       " 'M5_sewip1',\n",
       " 'M5_sewip2',\n",
       " 'M5_sewip3',\n",
       " 'M5_sewip4',\n",
       " 'M5_sewip5',\n",
       " 'M5_sewip6',\n",
       " 'M5_sewip7',\n",
       " 'M5_sewip8',\n",
       " 'M5_sewip9',\n",
       " 'M5_sewip10',\n",
       " 'M5_sewip11',\n",
       " 'M5_sewip12',\n",
       " 'M5_sewip13',\n",
       " 'M5_sewip14',\n",
       " 'M5_sewip15',\n",
       " 'M5_sewip16',\n",
       " 'M5_sewip17',\n",
       " 'M5_sewip18',\n",
       " 'M5_sewip19',\n",
       " 'M5_sewip20',\n",
       " 'M5_sewip21',\n",
       " 'M5_planer.duration',\n",
       " 'M5_diary.duration',\n",
       " 'M5_protocol.duration',\n",
       " 'M5_letter.duration',\n",
       " 'M6_phqD1',\n",
       " 'M6_phqD2',\n",
       " 'M6_phqD3',\n",
       " 'M6_phqD4',\n",
       " 'M6_phqD5',\n",
       " 'M6_phqD6',\n",
       " 'M6_phqD7',\n",
       " 'M6_phqD8',\n",
       " 'M6_phqD9',\n",
       " 'M6_planer.duration',\n",
       " 'M6_diary.duration',\n",
       " 'M6_protocol.duration',\n",
       " 'M6_letter.duration',\n",
       " 'M7_phqD1',\n",
       " 'M7_phqD2',\n",
       " 'M7_phqD3',\n",
       " 'M7_phqD4',\n",
       " 'M7_phqD5',\n",
       " 'M7_phqD6',\n",
       " 'M7_phqD7',\n",
       " 'M7_phqD8',\n",
       " 'M7_phqD9',\n",
       " 'M7_planer.duration',\n",
       " 'M7_diary.duration',\n",
       " 'M7_protocol.duration',\n",
       " 'M7_letter.duration',\n",
       " 'M7_2_planer.duration',\n",
       " 'M7_2_diary.duration',\n",
       " 'M7_2_protocol.duration',\n",
       " 'M7_2_letter.duration',\n",
       " 'POST_material',\n",
       " 'POST_material_comments',\n",
       " 'POST_ill',\n",
       " 'POST_ill_comments',\n",
       " 'POST_sickleave',\n",
       " 'POST_sickleave_comments',\n",
       " 'POST_doc',\n",
       " 'POST_doc_comments',\n",
       " 'POST_neurol',\n",
       " 'POST_neurol_comments',\n",
       " 'POST_selfhelp',\n",
       " 'POST_selfhelp_comments',\n",
       " 'POST_counsel',\n",
       " 'POST_counsel_comments',\n",
       " 'POST_therapy',\n",
       " 'POST_therapy_comments',\n",
       " 'POST_med',\n",
       " 'POST_med_comments',\n",
       " 'POST_hospital',\n",
       " 'POST_hospital_comments',\n",
       " 'POST_hos.other',\n",
       " 'POST_hos.other_comments',\n",
       " 'POST_bdi1',\n",
       " 'POST_bdi2',\n",
       " 'POST_bdi3',\n",
       " 'POST_bdi4',\n",
       " 'POST_bdi5',\n",
       " 'POST_bdi6',\n",
       " 'POST_bdi7',\n",
       " 'POST_bdi8',\n",
       " 'POST_bdi9',\n",
       " 'POST_bdi10',\n",
       " 'POST_bdi11',\n",
       " 'POST_bdi12',\n",
       " 'POST_bdi13',\n",
       " 'POST_bdi14',\n",
       " 'POST_bdi15',\n",
       " 'POST_bdi16',\n",
       " 'POST_bdi17',\n",
       " 'POST_bdi18',\n",
       " 'POST_bdi19',\n",
       " 'POST_bdi20',\n",
       " 'POST_bdi21',\n",
       " 'POST_phqS1',\n",
       " 'POST_phqS2',\n",
       " 'POST_phqS3',\n",
       " 'POST_phqS4',\n",
       " 'POST_phqS5',\n",
       " 'POST_phqS6',\n",
       " 'POST_phqS7',\n",
       " 'POST_phqS8',\n",
       " 'POST_phqS9',\n",
       " 'POST_phqS10',\n",
       " 'POST_phqD1',\n",
       " 'POST_phqD2',\n",
       " 'POST_phqD3',\n",
       " 'POST_phqD4',\n",
       " 'POST_phqD5',\n",
       " 'POST_phqD6',\n",
       " 'POST_phqD7',\n",
       " 'POST_phqD8',\n",
       " 'POST_phqD9',\n",
       " 'POST_gad1',\n",
       " 'POST_gad2',\n",
       " 'POST_gad3',\n",
       " 'POST_gad4',\n",
       " 'POST_gad5',\n",
       " 'POST_gad6',\n",
       " 'POST_gad7',\n",
       " 'POST_phqZ',\n",
       " 'POST_costa1',\n",
       " 'POST_costa2',\n",
       " 'POST_costa3',\n",
       " 'POST_costa4',\n",
       " 'POST_costa5',\n",
       " 'POST_costa6',\n",
       " 'POST_costa7',\n",
       " 'POST_costa8',\n",
       " 'POST_costa9',\n",
       " 'POST_costa10',\n",
       " 'POST_costa11',\n",
       " 'POST_costa12',\n",
       " 'POST_costa13',\n",
       " 'POST_costa14',\n",
       " 'POST_costa15',\n",
       " 'POST_costa16',\n",
       " 'POST_costa17',\n",
       " 'POST_costa18',\n",
       " 'POST_costa19',\n",
       " 'POST_costa20',\n",
       " 'POST_costa21',\n",
       " 'POST_eurohis1',\n",
       " 'POST_eurohis2',\n",
       " 'POST_eurohis3',\n",
       " 'POST_eurohis4',\n",
       " 'POST_eurohis5',\n",
       " 'POST_eurohis6',\n",
       " 'POST_eurohis7',\n",
       " 'POST_eurohis8',\n",
       " 'POST_imet1',\n",
       " 'POST_imet2',\n",
       " 'POST_imet3',\n",
       " 'POST_imet4',\n",
       " 'POST_imet5',\n",
       " 'POST_imet6',\n",
       " 'POST_imet7',\n",
       " 'POST_imet8',\n",
       " 'POST_imet9',\n",
       " 'POST_imet10',\n",
       " 'POST_bsss1',\n",
       " 'POST_bsss2',\n",
       " 'POST_bsss3',\n",
       " 'POST_bsss4',\n",
       " 'POST_bsss5',\n",
       " 'POST_bsss6',\n",
       " 'POST_bsss7',\n",
       " 'POST_bsss8',\n",
       " 'POST_bsss9',\n",
       " 'POST_bsss10',\n",
       " 'POST_bsss11',\n",
       " 'POST_bsss12',\n",
       " 'POST_bsss13',\n",
       " 'POST_gpse1',\n",
       " 'POST_gpse2',\n",
       " 'POST_gpse3',\n",
       " 'POST_gpse4',\n",
       " 'POST_gpse5',\n",
       " 'POST_gpse6',\n",
       " 'POST_gpse7',\n",
       " 'POST_gpse8',\n",
       " 'POST_gpse9',\n",
       " 'POST_gpse10',\n",
       " 'POST_sides1',\n",
       " 'POST_sides2',\n",
       " 'POST_sides3',\n",
       " 'POST_sides4',\n",
       " 'POST_sides5',\n",
       " 'POST_sides6',\n",
       " 'POST_sides7',\n",
       " 'POST_sides8',\n",
       " 'POST_sides9',\n",
       " 'POST_tk_satisfied',\n",
       " 'POST_tk_phase1',\n",
       " 'POST_tk_phase2',\n",
       " 'POST_tk_phase3',\n",
       " 'POST_tk_phase4',\n",
       " 'POST_tk_phase5',\n",
       " 'POST_tk_phase6',\n",
       " 'POST_tk_phase7',\n",
       " 'POST_tk_phase8',\n",
       " 'POST_tk_duration',\n",
       " 'POST_tk_comprehend',\n",
       " 'POST_tk_recommend',\n",
       " 'POST_tk_helpful',\n",
       " 'POST_tk_comparison',\n",
       " 'POST_tk_navigation',\n",
       " 'POST_tk_support1',\n",
       " 'POST_tk_support2',\n",
       " 'POST_tk_support3',\n",
       " 'POST_tk_support4',\n",
       " 'POST_tk_support5',\n",
       " 'POST_tk_support6',\n",
       " 'POST_tk_support_med1',\n",
       " 'POST_tk_support_med2',\n",
       " 'POST_tk_support_med3',\n",
       " 'POST_tk_support_med4',\n",
       " 'POST_tk_support_med5',\n",
       " 'POST_tk_support_med6',\n",
       " 'POST_tk_support_comments',\n",
       " 'POST_kPT',\n",
       " 'POST_kPT_comment',\n",
       " 'POST_tk_comment',\n",
       " 'POST_sewip1',\n",
       " 'POST_sewip2',\n",
       " 'POST_sewip3',\n",
       " 'POST_sewip4',\n",
       " 'POST_sewip5',\n",
       " 'POST_sewip6',\n",
       " 'POST_sewip7',\n",
       " 'POST_sewip8',\n",
       " 'POST_sewip9',\n",
       " 'POST_sewip10',\n",
       " 'POST_sewip11',\n",
       " 'POST_sewip12',\n",
       " 'POST_sewip13',\n",
       " 'POST_sewip14',\n",
       " 'POST_sewip15',\n",
       " 'POST_sewip16',\n",
       " 'POST_sewip17',\n",
       " 'POST_sewip18',\n",
       " 'POST_sewip19',\n",
       " 'POST_sewip20',\n",
       " 'POST_sewip21',\n",
       " 'FU1_material',\n",
       " 'FU1_material_comments',\n",
       " 'FU1_ill',\n",
       " 'FU1_ill_comments',\n",
       " 'FU1_sickleave',\n",
       " 'FU1_sickleave_comments',\n",
       " 'FU1_doc',\n",
       " 'FU1_doc_comments',\n",
       " 'FU1_neurol',\n",
       " 'FU1_neurol_comments',\n",
       " 'FU1_selfhelp',\n",
       " 'FU1_selfhelp_comments',\n",
       " 'FU1_counsel',\n",
       " 'FU1_counsel_comments',\n",
       " 'FU1_therapy',\n",
       " 'FU1_therapy_comments',\n",
       " 'FU1_med',\n",
       " 'FU1_med_comments',\n",
       " 'FU1_hospital',\n",
       " 'FU1_hospital_comments',\n",
       " 'FU1_hos.other',\n",
       " 'FU1_hos.other_comments',\n",
       " 'FU1_bdi1',\n",
       " 'FU1_bdi2',\n",
       " 'FU1_bdi3',\n",
       " 'FU1_bdi4',\n",
       " 'FU1_bdi5',\n",
       " 'FU1_bdi6',\n",
       " 'FU1_bdi7',\n",
       " 'FU1_bdi8',\n",
       " 'FU1_bdi9',\n",
       " 'FU1_bdi10',\n",
       " 'FU1_bdi11',\n",
       " 'FU1_bdi12',\n",
       " 'FU1_bdi13',\n",
       " 'FU1_bdi14',\n",
       " 'FU1_bdi15',\n",
       " 'FU1_bdi16',\n",
       " 'FU1_bdi17',\n",
       " 'FU1_bdi18',\n",
       " 'FU1_bdi19',\n",
       " 'FU1_bdi20',\n",
       " 'FU1_bdi21',\n",
       " 'FU1_phqS1',\n",
       " 'FU1_phqS2',\n",
       " 'FU1_phqS3',\n",
       " 'FU1_phqS4',\n",
       " 'FU1_phqS5',\n",
       " 'FU1_phqS6',\n",
       " 'FU1_phqS7',\n",
       " 'FU1_phqS8',\n",
       " 'FU1_phqS9',\n",
       " 'FU1_phqS10',\n",
       " 'FU1_phqD1',\n",
       " 'FU1_phqD2',\n",
       " 'FU1_phqD3',\n",
       " 'FU1_phqD4',\n",
       " 'FU1_phqD5',\n",
       " 'FU1_phqD6',\n",
       " 'FU1_phqD7',\n",
       " 'FU1_phqD8',\n",
       " 'FU1_phqD9',\n",
       " 'FU1_gad1',\n",
       " 'FU1_gad2',\n",
       " 'FU1_gad3',\n",
       " 'FU1_gad4',\n",
       " 'FU1_gad5',\n",
       " 'FU1_gad6',\n",
       " ...]"
      ]
     },
     "execution_count": 7,
     "metadata": {},
     "output_type": "execute_result"
    }
   ],
   "source": [
    "df.columns.tolist()"
   ]
  },
  {
   "cell_type": "markdown",
   "metadata": {},
   "source": [
    "### Create shortened df "
   ]
  },
  {
   "cell_type": "markdown",
   "metadata": {},
   "source": [
    "The following predictors were chosen for the current analysis:\n",
    "\n",
    "- df2 = BDI/PHQ (Post), PHQ M1, Pre: SKID-Diagnosen, IMET, EUROHIS_QUOL, BDI, PHQ-D, PHQ-S, GAD, Soziodemographisch, Costa, GPSE, BSSS, PATHEV + EUHEALS, IPQ-R, PVQ, SEWiP, Nutzung d. Gesundheitswesens \n",
    "- additional = 2_letter, 2_letter_size, 2_fb_size, 2_reminder, 2_module, 1_letter, 1_letter_size"
   ]
  },
  {
   "cell_type": "code",
   "execution_count": null,
   "metadata": {},
   "outputs": [],
   "source": [
    "column_zwei = ['registration','studyVariant','coach','PRE_bdi1','PRE_bdi2',\n",
    "               'PRE_bdi3','PRE_bdi4','PRE_bdi5','PRE_bdi6','PRE_bdi7','PRE_bdi8','PRE_bdi9','PRE_bdi10',\n",
    "               'PRE_bdi11','PRE_bdi12','PRE_bdi13','PRE_bdi14','PRE_bdi15','PRE_bdi16','PRE_bdi17','PRE_bdi18',\n",
    "               'PRE_bdi19','PRE_bdi20','PRE_bdi21','POST_phqD1','POST_phqD2','POST_phqD3','POST_phqD4','POST_phqD5',\n",
    "               'POST_phqD6','POST_phqD7','POST_phqD8','POST_phqD9',\n",
    "               'PRE_phqS1','PRE_phqS2','PRE_phqS3','PRE_phqS4','PRE_phqS5','PRE_phqS6','PRE_phqS7',\n",
    "               'PRE_phqS8','PRE_phqS9','PRE_phqS10','PRE_phqD1','PRE_phqD2','PRE_phqD3','PRE_phqD4','PRE_phqD5',\n",
    "               'PRE_phqD6','PRE_phqD7','PRE_phqD8','PRE_phqD9', 'PRE_birth','PRE_sex','PRE_education',\n",
    "               'PRE_work','PRE_household','PRE_relation','PRE_residence','PRE_internet','PRE_height','PRE_weight',\n",
    "               'PRE_treatment','PRE_support','PRE_kPT','PRE_ill','PRE_sickleave','PRE_doc',\n",
    "               'PRE_neurol','PRE_selfhelp','PRE_counsel','PRE_therapy','PRE_med','PRE_hospital',\n",
    "            'PRE_eurohis1','PRE_eurohis2','PRE_eurohis3','PRE_eurohis4','PRE_eurohis5',\n",
    "               'PRE_eurohis6','PRE_eurohis7','PRE_eurohis8', 'TI_score',\n",
    "               'TI_MDE','TI_dyst','TI_MDE_vr','TI_MDE_tr','TI_medik','PRE_gad1',\n",
    "               'PRE_gad2','PRE_gad3','PRE_gad4','PRE_gad5','PRE_gad6','PRE_gad7', 'PRE_costa1', 'PRE_costa2',  'PRE_costa5', 'PRE_costa6', 'PRE_costa8', 'PRE_costa10', 'PRE_costa11',\n",
    "              'PRE_costa12', 'PRE_costa13', 'PRE_costa14', 'PRE_costa15', 'PRE_costa18',\n",
    "              'PRE_pathev1', 'PRE_pathev2', 'PRE_pathev3', 'PRE_pathev4',\n",
    "              'PRE_pathev5', 'PRE_pathev6', 'PRE_pathev7', 'PRE_pathev8', 'PRE_pathev9', 'PRE_pathev10', \n",
    "              'PRE_euheals1','PRE_euheals2','PRE_euheals3','PRE_ipqr1','PRE_ipqr2','PRE_ipqr3','PRE_ipqr4','PRE_ipqr5',\n",
    "               'PRE_ipqr6','PRE_ipqr7','PRE_ipqr8','PRE_ipqr9','PRE_ipqr10','PRE_ipqr11','PRE_ipqr12','PRE_ipqr13',\n",
    "               'PRE_ipqr14','PRE_ipqr15','PRE_ipqr16','PRE_ipqr17','PRE_ipqr18', 'PRE_bsss1','PRE_bsss2','PRE_bsss3',\n",
    "               'PRE_bsss4','PRE_bsss5','PRE_bsss6','PRE_bsss7','PRE_bsss8','PRE_bsss9','PRE_bsss10','PRE_bsss11',\n",
    "               'PRE_bsss12','PRE_bsss13','PRE_gpse1','PRE_gpse2','PRE_gpse3','PRE_gpse4','PRE_gpse5','PRE_gpse6',\n",
    "               'PRE_gpse7','PRE_gpse8','PRE_gpse9','PRE_gpse10','PRE_pvq1','PRE_pvq2','PRE_pvq3','PRE_pvq4','PRE_pvq5',\n",
    "               'PRE_pvq6','PRE_pvq7','PRE_pvq8','PRE_pvq9','PRE_pvq10','PRE_pvq11','PRE_pvq12','PRE_pvq13','PRE_pvq14',\n",
    "               'PRE_pvq15','PRE_pvq16','PRE_pvq17','PRE_pvq18','PRE_pvq19','PRE_pvq20','PRE_pvq21', 'PRE_imet1','PRE_imet2','PRE_imet3','PRE_imet4','PRE_imet5','PRE_imet6','PRE_imet7',\n",
    "                'PRE_imet8','PRE_imet9','PRE_imet10', 'M1_phqD1','M1_phqD2','M1_phqD3','M1_phqD4','M1_phqD5','M1_phqD6',\n",
    "               'M1_phqD7','M1_phqD8','M1_phqD9', 'M3_phqD1', 'M3_phqD2', 'M3_phqD3', 'M3_phqD4', 'M3_phqD5', 'M3_phqD6',\n",
    "               'M3_phqD7', 'M3_phqD8', 'M3_phqD9',\n",
    "              'M3_sewip1','M3_sewip2','M3_sewip3','M3_sewip4','M3_sewip5','M3_sewip6','M3_sewip7','M3_sewip8',\n",
    "                    'M3_sewip9','M3_sewip10','M3_sewip11','M3_sewip12','M3_sewip13','M3_sewip14','M3_sewip15','M3_sewip16','M3_sewip17',\n",
    "                    'M3_sewip18','M3_sewip19','M3_sewip20','M3_sewip21',\n",
    "                'M3_costa1','M3_costa2','M3_costa5','M3_costa6','M3_costa8',\n",
    "                    'M3_costa10','M3_costa11','M3_costa12','M3_costa13','M3_costa14','M3_costa15',\n",
    "                    'M3_costa18']"
   ]
  },
  {
   "cell_type": "markdown",
   "metadata": {},
   "source": [
    "To Do:\n",
    "* df[\"dropout\"] umändern in binäre Variablen\n",
    "* Study Variant in binäre Variable\n",
    "* Birth Year in Age umwandeln\n",
    "* Hight und Weight in BDI umwandeln\n",
    "* Anzahl Diagnosen zählen\n",
    "* Therapist Variablen anonymisieren und Alter, Geschlecht, Abschluss extrahieren\n",
    "* Skalen auswerten: IPQr8 umpolen, IMET10 umpolen\n",
    "* Dummy Categorize TI_rekrut, PRE_work, PRE_household, PRE_residence\n",
    "* Standardize TI_Score, BMI, Age, Internet (optional; not necessary for RF; erst nach Train-Test_Split)\n",
    "* Transform Post_BDI to RCI \n",
    "* Idea: Handle registration date as cyclical feature\n",
    "* Idea: Fancier strategies for missing values\n",
    "\n",
    "Notizen:\n",
    "* PRE_pt_planned raus, da PatientInnen ausgeschlossen werden, die eine PT geplant haben"
   ]
  },
  {
   "cell_type": "code",
   "execution_count": null,
   "metadata": {},
   "outputs": [],
   "source": [
    "df2 = df[column_zwei]"
   ]
  },
  {
   "cell_type": "code",
   "execution_count": null,
   "metadata": {},
   "outputs": [],
   "source": [
    "df2 = df2[df2[\"studyVariant\"].notnull()]"
   ]
  },
  {
   "cell_type": "code",
   "execution_count": null,
   "metadata": {},
   "outputs": [],
   "source": [
    "df2.shape"
   ]
  },
  {
   "cell_type": "markdown",
   "metadata": {},
   "source": [
    "# 1. Prepare first dataframe for first analysis "
   ]
  },
  {
   "cell_type": "markdown",
   "metadata": {},
   "source": [
    "## 1.1 Check out Missing Values "
   ]
  },
  {
   "cell_type": "markdown",
   "metadata": {},
   "source": [
    "### 1.1.1 Drop rows with missing values on outcome"
   ]
  },
  {
   "cell_type": "code",
   "execution_count": null,
   "metadata": {},
   "outputs": [],
   "source": [
    "def missing_values_table(df):\n",
    "        # Total missing values\n",
    "        mis_val = df.isnull().sum()\n",
    "\n",
    "        # Percentage of missing values\n",
    "        mis_val_percent = 100 * df.isnull().sum() / len(df)\n",
    "\n",
    "        # Type of missing column\n",
    "        answer_type = [df[column].unique() if df[column].nunique() < 15 else \"Free Text or Numeric Input\" for column in df.columns]\n",
    "        answer_df = pd.DataFrame(answer_type, index = df.columns)\n",
    "\n",
    "        # Make a table with the results\n",
    "        mis_val_table = pd.concat([mis_val, mis_val_percent, answer_df], axis=1)\n",
    "\n",
    "        # Rename the columns\n",
    "        mis_val_table_ren_columns = mis_val_table.rename(\n",
    "        columns = {0 : 'Missing Values', 1 : '% of Total Values', 2: 'Answers'})\n",
    "\n",
    "        # Sort the table by percentage of missing descending\n",
    "        mis_val_table_ren_columns = mis_val_table_ren_columns[\n",
    "            mis_val_table_ren_columns.iloc[:,1] != 0].sort_values(\n",
    "        '% of Total Values', ascending=False).round(1)\n",
    "\n",
    "        # Print some summary information\n",
    "        print (\"The dataset has \" + str(df.shape[1]) + \" columns.\\n\"\n",
    "            \"There are \" + str(mis_val_table_ren_columns.shape[0]) +\n",
    "              \" columns that have missing values.\")\n",
    "\n",
    "        # Return the dataframe with missing information\n",
    "        return mis_val_table_ren_columns"
   ]
  },
  {
   "cell_type": "code",
   "execution_count": null,
   "metadata": {},
   "outputs": [],
   "source": [
    "miss_df2 = missing_values_table(df2)\n",
    "miss_df2"
   ]
  },
  {
   "cell_type": "code",
   "execution_count": null,
   "metadata": {},
   "outputs": [],
   "source": [
    "post_phq_columns = ['POST_phqD1','POST_phqD2','POST_phqD3','POST_phqD4','POST_phqD5',\n",
    "               'POST_phqD6','POST_phqD7','POST_phqD8','POST_phqD9']"
   ]
  },
  {
   "cell_type": "code",
   "execution_count": null,
   "metadata": {},
   "outputs": [],
   "source": [
    "df2 = df2[df2[post_phq_columns].notnull().all(axis=1)]"
   ]
  },
  {
   "cell_type": "code",
   "execution_count": null,
   "metadata": {},
   "outputs": [],
   "source": [
    "df2.shape"
   ]
  },
  {
   "cell_type": "code",
   "execution_count": null,
   "metadata": {},
   "outputs": [],
   "source": [
    "miss_df2 = missing_values_table(df2)\n",
    "miss_df2"
   ]
  },
  {
   "cell_type": "code",
   "execution_count": null,
   "metadata": {},
   "outputs": [],
   "source": [
    "m3_phq_cols = ['M3_phqD1','M3_phqD2','M3_phqD3','M3_phqD4','M3_phqD5',\\\n",
    "               'M3_phqD6','M3_phqD7','M3_phqD8','M3_phqD9']"
   ]
  },
  {
   "cell_type": "code",
   "execution_count": null,
   "metadata": {},
   "outputs": [],
   "source": [
    "m3_sewip_cols = ['M3_sewip1','M3_sewip2','M3_sewip3','M3_sewip4','M3_sewip5','M3_sewip6','M3_sewip7','M3_sewip8',\n",
    "                    'M3_sewip9','M3_sewip10','M3_sewip11','M3_sewip12','M3_sewip13','M3_sewip14','M3_sewip15','M3_sewip16','M3_sewip17',\n",
    "                    'M3_sewip18','M3_sewip19','M3_sewip20','M3_sewip21']"
   ]
  },
  {
   "cell_type": "code",
   "execution_count": null,
   "metadata": {},
   "outputs": [],
   "source": [
    "df2 = df2[df2[m3_phq_cols].notnull().all(axis=1)]"
   ]
  },
  {
   "cell_type": "markdown",
   "metadata": {},
   "source": [
    "### 1.1.2 Drop columns referring to exclusion criteria\n",
    "\n",
    "Diagnosen:\n",
    "* F20.8: Schizophrenie = Exclusion criterion --> Drop \n",
    "* F29: Nicht näher bezeichnete nichtorganische Psychose = Exclusion criterion --> Drop\n",
    "* F23: Akute vorübergehende psychotische Störungen = Exclusion criterion --> Drop\n",
    "* F22: Wahnhafte Störung = Exclusion criterion --> Drop\n",
    "* F25: Schizoaffektive Störung = Exclusion criterion --> Drop\n",
    "* F20: Paranoide Schizophrenie = Exclusion criterion --> Drop\n",
    "* TI_hyp_x: Hypomania --> Drop"
   ]
  },
  {
   "cell_type": "markdown",
   "metadata": {},
   "source": [
    "### 1.1.3 Replace missing categorical values with mode"
   ]
  },
  {
   "cell_type": "markdown",
   "metadata": {},
   "source": [
    "Some data types are object --> we will turn them numeric to allow replacement with mode value"
   ]
  },
  {
   "cell_type": "code",
   "execution_count": null,
   "metadata": {},
   "outputs": [],
   "source": [
    "miss_df2 = missing_values_table(df2)\n",
    "missing_cols = miss_df2.index.tolist()"
   ]
  },
  {
   "cell_type": "code",
   "execution_count": null,
   "metadata": {},
   "outputs": [],
   "source": [
    "for column in missing_cols:\n",
    "    df2[column] = pd.to_numeric(df2[column], errors='coerce').astype('Int64')"
   ]
  },
  {
   "cell_type": "code",
   "execution_count": null,
   "metadata": {},
   "outputs": [],
   "source": [
    "def fillna_with_mean(df, column):\n",
    "    mean = df[column].mean()\n",
    "    mean = int(mean)\n",
    "\n",
    "    df[column] = df[column].fillna(mean)"
   ]
  },
  {
   "cell_type": "code",
   "execution_count": null,
   "metadata": {},
   "outputs": [],
   "source": [
    "for column in missing_cols:\n",
    "    fillna_with_mean(df2, column)"
   ]
  },
  {
   "cell_type": "code",
   "execution_count": null,
   "metadata": {},
   "outputs": [],
   "source": [
    "filename = path + \"prepared_data.csv\"\n",
    "df2.to_csv(filename, sep=\";\", encoding=\"utf-8\", index=False)"
   ]
  },
  {
   "cell_type": "markdown",
   "metadata": {},
   "source": [
    "Categorical features: \"PRE_work\", \"PRE_household\", \"PRE_residence\", \"PRE_relation\", 'PRE_sickleave',\"registration\", \"coach\""
   ]
  },
  {
   "cell_type": "markdown",
   "metadata": {},
   "source": [
    "## 1.2 Aggregate and Transform columns"
   ]
  },
  {
   "cell_type": "markdown",
   "metadata": {},
   "source": [
    "### 1.2.1 Turn study variant into a binary variable"
   ]
  },
  {
   "cell_type": "code",
   "execution_count": null,
   "metadata": {},
   "outputs": [],
   "source": [
    "#df2['studyVariant'] = pd.get_dummies(df2['studyVariant'])"
   ]
  },
  {
   "cell_type": "markdown",
   "metadata": {},
   "source": [
    "### 1.2.4 Check dtypes and answer formats"
   ]
  },
  {
   "cell_type": "code",
   "execution_count": null,
   "metadata": {},
   "outputs": [],
   "source": [
    "#answer_table = show_answers(df2)\n",
    "#answer_table"
   ]
  },
  {
   "cell_type": "markdown",
   "metadata": {},
   "source": [
    "--> Data types of some scales have to be changed from object to numeric to create sum scores"
   ]
  },
  {
   "cell_type": "markdown",
   "metadata": {},
   "source": [
    "### 1.2.5 Create Sum Scores of clinical screenings"
   ]
  },
  {
   "cell_type": "markdown",
   "metadata": {},
   "source": [
    "#### BDI-II"
   ]
  },
  {
   "cell_type": "code",
   "execution_count": null,
   "metadata": {},
   "outputs": [],
   "source": [
    "pre_bdi_columns = ['PRE_bdi1','PRE_bdi2','PRE_bdi3',\n",
    "               'PRE_bdi4','PRE_bdi5','PRE_bdi6','PRE_bdi7','PRE_bdi8','PRE_bdi9','PRE_bdi10','PRE_bdi11','PRE_bdi12',\n",
    "               'PRE_bdi13','PRE_bdi14','PRE_bdi15','PRE_bdi16','PRE_bdi17','PRE_bdi18','PRE_bdi19','PRE_bdi20',\n",
    "               'PRE_bdi21']"
   ]
  },
  {
   "cell_type": "code",
   "execution_count": null,
   "metadata": {},
   "outputs": [],
   "source": [
    "df2[\"PRE_bdi_sum\"] = df2[pre_bdi_columns].sum(axis=1).astype('Int64')"
   ]
  },
  {
   "cell_type": "markdown",
   "metadata": {},
   "source": [
    "#### PHQ-D"
   ]
  },
  {
   "cell_type": "code",
   "execution_count": null,
   "metadata": {},
   "outputs": [],
   "source": [
    "pre_phq_columns = ['PRE_phqD1','PRE_phqD2','PRE_phqD3','PRE_phqD4','PRE_phqD5','PRE_phqD6','PRE_phqD7',\n",
    "               'PRE_phqD8','PRE_phqD9']"
   ]
  },
  {
   "cell_type": "code",
   "execution_count": null,
   "metadata": {},
   "outputs": [],
   "source": [
    "df2[pre_phq_columns] = df2[pre_phq_columns].apply(pd.to_numeric, errors='coerce').astype('Int64')"
   ]
  },
  {
   "cell_type": "code",
   "execution_count": null,
   "metadata": {},
   "outputs": [],
   "source": [
    "df2[\"phq_d_sum\"] = df2[pre_phq_columns].sum(axis=1)"
   ]
  },
  {
   "cell_type": "markdown",
   "metadata": {},
   "source": [
    " **PHQ-D Outcome**"
   ]
  },
  {
   "cell_type": "code",
   "execution_count": null,
   "metadata": {},
   "outputs": [],
   "source": [
    "post_phq_columns = ['POST_phqD1', 'POST_phqD2','POST_phqD3','POST_phqD4','POST_phqD5',\n",
    "               'POST_phqD6','POST_phqD7','POST_phqD8','POST_phqD9']"
   ]
  },
  {
   "cell_type": "code",
   "execution_count": null,
   "metadata": {},
   "outputs": [],
   "source": [
    "df2[post_phq_columns] = df2[post_phq_columns].apply(pd.to_numeric, errors='coerce').astype('Int64')"
   ]
  },
  {
   "cell_type": "code",
   "execution_count": null,
   "metadata": {},
   "outputs": [],
   "source": [
    "df2[\"phq_post\"] = df2[post_phq_columns].sum(axis=1)"
   ]
  },
  {
   "cell_type": "markdown",
   "metadata": {},
   "source": [
    "#### PHQ-S"
   ]
  },
  {
   "cell_type": "code",
   "execution_count": null,
   "metadata": {},
   "outputs": [],
   "source": [
    "phq_s_columns = ['PRE_phqS1','PRE_phqS2','PRE_phqS3','PRE_phqS4','PRE_phqS5','PRE_phqS6','PRE_phqS7',\n",
    "               'PRE_phqS8','PRE_phqS9', 'PRE_phqS10']"
   ]
  },
  {
   "cell_type": "code",
   "execution_count": null,
   "metadata": {},
   "outputs": [],
   "source": [
    "df2[phq_s_columns] = df2[phq_s_columns].apply(pd.to_numeric, errors='coerce').astype('Int64')"
   ]
  },
  {
   "cell_type": "code",
   "execution_count": null,
   "metadata": {},
   "outputs": [],
   "source": [
    "df2[\"phq_s_sum\"] = df2[phq_s_columns].sum(axis=1)"
   ]
  },
  {
   "cell_type": "markdown",
   "metadata": {},
   "source": [
    "#### EUROHIS-QOL"
   ]
  },
  {
   "cell_type": "code",
   "execution_count": null,
   "metadata": {},
   "outputs": [],
   "source": [
    "eurohis_columns = ['PRE_eurohis1','PRE_eurohis2','PRE_eurohis3','PRE_eurohis4','PRE_eurohis5','PRE_eurohis6',\n",
    "                   'PRE_eurohis7','PRE_eurohis8']"
   ]
  },
  {
   "cell_type": "code",
   "execution_count": null,
   "metadata": {},
   "outputs": [],
   "source": [
    "df2[eurohis_columns] = df2[eurohis_columns].apply(pd.to_numeric, errors='coerce').astype('Int64')"
   ]
  },
  {
   "cell_type": "code",
   "execution_count": null,
   "metadata": {},
   "outputs": [],
   "source": [
    "df2[\"eurohis_sum\"] = df2[eurohis_columns].sum(axis=1)"
   ]
  },
  {
   "cell_type": "markdown",
   "metadata": {},
   "source": [
    "#### IMET"
   ]
  },
  {
   "cell_type": "code",
   "execution_count": null,
   "metadata": {},
   "outputs": [],
   "source": [
    "imet_columns = ['PRE_imet1','PRE_imet2','PRE_imet3','PRE_imet4','PRE_imet5','PRE_imet6','PRE_imet7',\n",
    "                'PRE_imet8','PRE_imet10']"
   ]
  },
  {
   "cell_type": "code",
   "execution_count": null,
   "metadata": {},
   "outputs": [],
   "source": [
    "df2[imet_columns] = df2[imet_columns].apply(pd.to_numeric, errors='coerce')"
   ]
  },
  {
   "cell_type": "code",
   "execution_count": null,
   "metadata": {},
   "outputs": [],
   "source": [
    "df2['PRE_imet10'] = df2['PRE_imet10'].map({0:10, 1:9, 2:8, 3:7, 4:6, 5:5, 6:4, 7:3, 8:2, 9:1, 10:0})"
   ]
  },
  {
   "cell_type": "code",
   "execution_count": null,
   "metadata": {},
   "outputs": [],
   "source": [
    "df2[\"imet_sum\"] = df2[imet_columns].sum(axis=1)"
   ]
  },
  {
   "cell_type": "markdown",
   "metadata": {},
   "source": [
    "#### GAD7"
   ]
  },
  {
   "cell_type": "code",
   "execution_count": null,
   "metadata": {},
   "outputs": [],
   "source": [
    "gad_columns= ['PRE_gad1','PRE_gad2','PRE_gad3','PRE_gad4','PRE_gad5','PRE_gad6','PRE_gad7']"
   ]
  },
  {
   "cell_type": "code",
   "execution_count": null,
   "metadata": {},
   "outputs": [],
   "source": [
    "df2[gad_columns] = df2[gad_columns].apply(pd.to_numeric, errors='coerce').astype('Int64')"
   ]
  },
  {
   "cell_type": "code",
   "execution_count": null,
   "metadata": {},
   "outputs": [],
   "source": [
    "df2[\"gad_sum\"] = df2[gad_columns].sum(axis=1)"
   ]
  },
  {
   "cell_type": "markdown",
   "metadata": {},
   "source": [
    "**Costa PRE**"
   ]
  },
  {
   "cell_type": "code",
   "execution_count": null,
   "metadata": {},
   "outputs": [],
   "source": [
    "costa_columns = ['PRE_costa1', 'PRE_costa2', 'PRE_costa5', 'PRE_costa6',\n",
    "                        'PRE_costa8', 'PRE_costa10', 'PRE_costa11','PRE_costa12', 'PRE_costa13', 'PRE_costa14',\n",
    "                        'PRE_costa15', 'PRE_costa18']\n",
    "            \n",
    "df2[costa_columns] = df2[costa_columns].apply(pd.to_numeric, errors='coerce').astype('Int64')\n",
    "df2[\"costa_sum\"] = df2[costa_columns].sum(axis=1).astype('Int64')"
   ]
  },
  {
   "cell_type": "markdown",
   "metadata": {},
   "source": [
    "**Costa Week2**"
   ]
  },
  {
   "cell_type": "code",
   "execution_count": null,
   "metadata": {},
   "outputs": [],
   "source": [
    " M3_costa_cols = ['M3_costa1','M3_costa2','M3_costa5','M3_costa6','M3_costa8',\n",
    "                    'M3_costa10','M3_costa11','M3_costa12','M3_costa13','M3_costa14','M3_costa15',\n",
    "                    'M3_costa18']"
   ]
  },
  {
   "cell_type": "code",
   "execution_count": null,
   "metadata": {},
   "outputs": [],
   "source": [
    "df2[M3_costa_cols] = df2[M3_costa_cols].apply(pd.to_numeric, errors='coerce').astype('Int64')"
   ]
  },
  {
   "cell_type": "code",
   "execution_count": null,
   "metadata": {},
   "outputs": [],
   "source": [
    "df2[\"M3_costa_sum\"] = df2[M3_costa_cols].sum(axis=1).astype('Int64')"
   ]
  },
  {
   "cell_type": "code",
   "execution_count": null,
   "metadata": {},
   "outputs": [],
   "source": [
    "df2[\"costa_early_change\"] = df2[\"M3_costa_sum\"] - df2[\"costa_sum\"]"
   ]
  },
  {
   "cell_type": "markdown",
   "metadata": {},
   "source": [
    "**PHQ-D Week2**"
   ]
  },
  {
   "cell_type": "code",
   "execution_count": null,
   "metadata": {},
   "outputs": [],
   "source": [
    "early_phq_columns = ['M3_phqD1','M3_phqD2','M3_phqD3','M3_phqD4','M3_phqD5','M3_phqD6','M3_phqD7','M3_phqD8','M3_phqD9']\n",
    "df2[early_phq_columns] = df2[early_phq_columns].apply(pd.to_numeric, errors='coerce').astype('Int64')\n",
    "df2[\"phq_early_sum\"] = df2[early_phq_columns].sum(axis=1)\n",
    "df2[\"phq_early_change\"] = df2[\"phq_d_sum\"] - df2[\"phq_early_sum\"]"
   ]
  },
  {
   "cell_type": "markdown",
   "metadata": {},
   "source": [
    "**Sewip**"
   ]
  },
  {
   "cell_type": "code",
   "execution_count": null,
   "metadata": {},
   "outputs": [],
   "source": [
    "M3_sewip_cols = ['M3_sewip1','M3_sewip2','M3_sewip3','M3_sewip4','M3_sewip5','M3_sewip6','M3_sewip7','M3_sewip8',\n",
    "                    'M3_sewip9','M3_sewip10','M3_sewip11','M3_sewip12','M3_sewip13','M3_sewip14','M3_sewip15','M3_sewip16','M3_sewip17',\n",
    "                    'M3_sewip18','M3_sewip19','M3_sewip20','M3_sewip21']"
   ]
  },
  {
   "cell_type": "code",
   "execution_count": null,
   "metadata": {},
   "outputs": [],
   "source": [
    "df2[M3_sewip_cols] = df2[M3_sewip_cols].apply(pd.to_numeric, errors='coerce').astype('Int64')"
   ]
  },
  {
   "cell_type": "code",
   "execution_count": null,
   "metadata": {},
   "outputs": [],
   "source": [
    "for column in M3_sewip_cols:\n",
    "    df2[column] = df2[column].map({1:0,2:1, 3:2, 4:3, 5:4})"
   ]
  },
  {
   "cell_type": "code",
   "execution_count": null,
   "metadata": {},
   "outputs": [],
   "source": [
    "df2[\"M3_sewip_sum\"] = df2[M3_sewip_cols].sum(axis=1).astype('Int64')"
   ]
  },
  {
   "cell_type": "markdown",
   "metadata": {},
   "source": [
    "**Pathev**"
   ]
  },
  {
   "cell_type": "markdown",
   "metadata": {},
   "source": [
    "Therapieerwartung und Therapieevaluation. 1,5,9,10 sind umzupolen. Auswertung auf Einzel- und Subskalenebene "
   ]
  },
  {
   "cell_type": "code",
   "execution_count": null,
   "metadata": {},
   "outputs": [],
   "source": [
    "pathev_columns = ['PRE_pathev1', 'PRE_pathev2', 'PRE_pathev3', 'PRE_pathev4','PRE_pathev5', 'PRE_pathev6', \n",
    "                  'PRE_pathev7', 'PRE_pathev8', 'PRE_pathev9', 'PRE_pathev10']"
   ]
  },
  {
   "cell_type": "code",
   "execution_count": null,
   "metadata": {},
   "outputs": [],
   "source": [
    "df2[pathev_columns] = df2[pathev_columns].apply(pd.to_numeric, errors='coerce').astype('Int64')"
   ]
  },
  {
   "cell_type": "code",
   "execution_count": null,
   "metadata": {},
   "outputs": [],
   "source": [
    "invert_columns = ['PRE_pathev1','PRE_pathev5','PRE_pathev9', 'PRE_pathev10']"
   ]
  },
  {
   "cell_type": "code",
   "execution_count": null,
   "metadata": {},
   "outputs": [],
   "source": [
    "for column in invert_columns:\n",
    "    df2[column] = df2[column].map({1:5, 2:4, 3:3, 4:2, 5:1})"
   ]
  },
  {
   "cell_type": "code",
   "execution_count": null,
   "metadata": {},
   "outputs": [],
   "source": [
    "df2[\"pathev_zuv\"] = df2[['PRE_pathev1','PRE_pathev4', 'PRE_pathev5', 'PRE_pathev9']].sum(axis=1).astype('Int64')\n",
    "df2[\"pathev_fur\"] = df2[['PRE_pathev3', 'PRE_pathev7']].sum(axis=1).astype('Int64')\n",
    "df2[\"pathev_pas\"] = df2[['PRE_pathev2', 'PRE_pathev6', 'PRE_pathev8', 'PRE_pathev10']].sum(axis=1).astype('Int64')"
   ]
  },
  {
   "cell_type": "markdown",
   "metadata": {},
   "source": [
    "**IPQ-R**"
   ]
  },
  {
   "cell_type": "markdown",
   "metadata": {},
   "source": [
    "Krankheitswahrnehmung. Item 8 ist invertiert. Auswertung = Summenscore\n"
   ]
  },
  {
   "cell_type": "code",
   "execution_count": null,
   "metadata": {},
   "outputs": [],
   "source": [
    "ipqr_columns = ['PRE_ipqr1','PRE_ipqr2','PRE_ipqr3','PRE_ipqr4','PRE_ipqr5',\n",
    "               'PRE_ipqr6','PRE_ipqr7','PRE_ipqr8','PRE_ipqr9','PRE_ipqr10','PRE_ipqr11','PRE_ipqr12','PRE_ipqr13',\n",
    "               'PRE_ipqr14','PRE_ipqr15','PRE_ipqr16','PRE_ipqr17','PRE_ipqr18']"
   ]
  },
  {
   "cell_type": "code",
   "execution_count": null,
   "metadata": {},
   "outputs": [],
   "source": [
    "df2[ipqr_columns] = df2[ipqr_columns].apply(pd.to_numeric, errors='coerce')"
   ]
  },
  {
   "cell_type": "code",
   "execution_count": null,
   "metadata": {},
   "outputs": [],
   "source": [
    "df2['PRE_ipqr7'] = df2['PRE_ipqr7'].map({1:5, 2:4, 3:3, 4:2, 5:1})\n",
    "df2['PRE_ipqr9'] = df2['PRE_ipqr9'].map({1:5, 2:4, 3:3, 4:2, 5:1})\n",
    "df2['PRE_ipqr10'] = df2['PRE_ipqr10'].map({1:5, 2:4, 3:3, 4:2, 5:1})\n",
    "df2['PRE_ipqr11'] = df2['PRE_ipqr11'].map({1:5, 2:4, 3:3, 4:2, 5:1})\n",
    "df2['PRE_ipqr12'] = df2['PRE_ipqr12'].map({1:5, 2:4, 3:3, 4:2, 5:1})\n",
    "\n",
    "df2[\"ipqr_timeline\"] = df2[['PRE_ipqr1','PRE_ipqr2','PRE_ipqr3']].sum(axis=1).astype('Int64')\n",
    "df2[\"ipqr_cons\"] = df2[['PRE_ipqr4','PRE_ipqr5','PRE_ipqr6']].sum(axis=1).astype('Int64')\n",
    "df2[\"ipqr_perscont\"] = df2[['PRE_ipqr7','PRE_ipqr8','PRE_ipqr9']].sum(axis=1).astype('Int64')\n",
    "df2[\"ipqr_illcoher\"] = df2[['PRE_ipqr10','PRE_ipqr11','PRE_ipqr12']].sum(axis=1).astype('Int64')\n",
    "df2[\"ipqr_timecycl\"] = df2[['PRE_ipqr13','PRE_ipqr14','PRE_ipqr15']].sum(axis=1).astype('Int64')\n",
    "df2[\"ipqr_emotrep\"] = df2[['PRE_ipqr16','PRE_ipqr17','PRE_ipqr18']].sum(axis=1).astype('Int64')\n"
   ]
  },
  {
   "cell_type": "code",
   "execution_count": null,
   "metadata": {},
   "outputs": [],
   "source": [
    "df2[\"ipqr_sum\"] = df2[ipqr_columns].sum(axis=1).astype('Int64')"
   ]
  },
  {
   "cell_type": "markdown",
   "metadata": {},
   "source": [
    "**GPSE**"
   ]
  },
  {
   "cell_type": "markdown",
   "metadata": {},
   "source": [
    "Selbstwirksamkeitserwartung. Nur eine Skala --> Summenwert"
   ]
  },
  {
   "cell_type": "code",
   "execution_count": null,
   "metadata": {},
   "outputs": [],
   "source": [
    "gpse_columns = ['PRE_gpse1','PRE_gpse2','PRE_gpse3','PRE_gpse4','PRE_gpse5','PRE_gpse6',\n",
    "               'PRE_gpse7','PRE_gpse8','PRE_gpse9','PRE_gpse10']"
   ]
  },
  {
   "cell_type": "code",
   "execution_count": null,
   "metadata": {},
   "outputs": [],
   "source": [
    "df2[gpse_columns] = df2[gpse_columns].apply(pd.to_numeric, errors='coerce')"
   ]
  },
  {
   "cell_type": "code",
   "execution_count": null,
   "metadata": {},
   "outputs": [],
   "source": [
    "df2[\"gpse_sum\"] = df2[gpse_columns].sum(axis=1).astype('Int64')"
   ]
  },
  {
   "cell_type": "markdown",
   "metadata": {},
   "source": [
    "**BSSS**\n",
    "\n",
    "Berliner Social Support Skalen. 2 Subskalen: Perceived Support (Item 1-8), Support Seeking (Item 9-13)"
   ]
  },
  {
   "cell_type": "code",
   "execution_count": null,
   "metadata": {},
   "outputs": [],
   "source": [
    "bsss_columns = ['PRE_bsss1','PRE_bsss2','PRE_bsss3','PRE_bsss4','PRE_bsss5','PRE_bsss6','PRE_bsss7','PRE_bsss8',\n",
    "                'PRE_bsss9','PRE_bsss10','PRE_bsss11','PRE_bsss12','PRE_bsss13']"
   ]
  },
  {
   "cell_type": "code",
   "execution_count": null,
   "metadata": {},
   "outputs": [],
   "source": [
    "df2[bsss_columns] = df2[bsss_columns].apply(pd.to_numeric, errors='coerce').astype('Int64')"
   ]
  },
  {
   "cell_type": "code",
   "execution_count": null,
   "metadata": {},
   "outputs": [],
   "source": [
    "df2[\"bsss_perceived\"] = df2[['PRE_bsss1','PRE_bsss2','PRE_bsss3','PRE_bsss4','PRE_bsss5','PRE_bsss6','PRE_bsss7',\n",
    "                           'PRE_bsss8']].sum(axis=1).astype('Int64')"
   ]
  },
  {
   "cell_type": "code",
   "execution_count": null,
   "metadata": {},
   "outputs": [],
   "source": [
    "df2[\"bsss_suppseek\"] = df2[['PRE_bsss9','PRE_bsss10','PRE_bsss11','PRE_bsss12','PRE_bsss13']].sum(axis=1).astype('Int64')"
   ]
  },
  {
   "cell_type": "markdown",
   "metadata": {},
   "source": [
    "**PVQ**\n",
    "\n",
    "Subskalen: Selbstbestimmung (Item 1,11), Macht (Item 2,17), Universalismus (Item 3,8,19), Leistung (Item 4,13), Sicherheit (Item 5,14), Stimulation (Item 6,15), Konformität (Item 7,16), Tradition (Item 9, 20), Hedonismus (Item 10,21), Benevolenz (Item 12,18) --> Summenscores machen wenig Sinn"
   ]
  },
  {
   "cell_type": "code",
   "execution_count": null,
   "metadata": {},
   "outputs": [],
   "source": [
    "pvq_columns = ['PRE_pvq1','PRE_pvq2','PRE_pvq3','PRE_pvq4','PRE_pvq5','PRE_pvq6','PRE_pvq7','PRE_pvq8','PRE_pvq9',\n",
    "               'PRE_pvq10','PRE_pvq11','PRE_pvq12','PRE_pvq13','PRE_pvq14','PRE_pvq15','PRE_pvq16','PRE_pvq17',\n",
    "               'PRE_pvq18','PRE_pvq19','PRE_pvq20','PRE_pvq21']"
   ]
  },
  {
   "cell_type": "code",
   "execution_count": null,
   "metadata": {},
   "outputs": [],
   "source": [
    "df2[pvq_columns] = df2[pvq_columns].apply(pd.to_numeric, errors ='coerce').astype('Int64')"
   ]
  },
  {
   "cell_type": "markdown",
   "metadata": {},
   "source": [
    "### 1.2.6 Change birthyear to age, registration date to registration year and create corona variable"
   ]
  },
  {
   "cell_type": "code",
   "execution_count": null,
   "metadata": {},
   "outputs": [],
   "source": [
    "df2[\"registration_dt\"] = pd.to_datetime(df2[\"registration\"])"
   ]
  },
  {
   "cell_type": "code",
   "execution_count": null,
   "metadata": {},
   "outputs": [],
   "source": [
    "df2[\"corona_train\"] = np.where((df2[\"registration_dt\"] >= pd.Timestamp(2020, 1, 15)),1,0)"
   ]
  },
  {
   "cell_type": "code",
   "execution_count": null,
   "metadata": {},
   "outputs": [],
   "source": [
    "df2[\"age\"] = df2[\"registration_dt\"].dt.year - df2['PRE_birth']"
   ]
  },
  {
   "cell_type": "code",
   "execution_count": null,
   "metadata": {},
   "outputs": [],
   "source": [
    "df2[\"registration\"] = df2[\"registration_dt\"].dt.year"
   ]
  },
  {
   "cell_type": "code",
   "execution_count": null,
   "metadata": {},
   "outputs": [],
   "source": [
    "df2.drop([\"registration_dt\", \"PRE_birth\"], axis=1, inplace= True)"
   ]
  },
  {
   "cell_type": "markdown",
   "metadata": {},
   "source": [
    "### 1.2.6 Create BMI-score from height and weight columns"
   ]
  },
  {
   "cell_type": "code",
   "execution_count": null,
   "metadata": {},
   "outputs": [],
   "source": [
    "df2['PRE_height'] = df2['PRE_height']/100"
   ]
  },
  {
   "cell_type": "code",
   "execution_count": null,
   "metadata": {},
   "outputs": [],
   "source": [
    "df2[\"bmi_score\"] = df2['PRE_weight']/ (df2['PRE_height']*df2['PRE_height'])"
   ]
  },
  {
   "cell_type": "code",
   "execution_count": null,
   "metadata": {},
   "outputs": [],
   "source": [
    "df2.drop(['PRE_weight', 'PRE_height'], axis=1, inplace=True)"
   ]
  },
  {
   "cell_type": "markdown",
   "metadata": {},
   "source": [
    "### 1.2.7 ReCategorize PRE_work, PRE_household, PRE_residence, PRE_relation"
   ]
  },
  {
   "cell_type": "code",
   "execution_count": null,
   "metadata": {},
   "outputs": [],
   "source": [
    "df2[\"PRE_residence\"].replace(5,4)\n",
    "df2[\"PRE_household\"].replace(3,4)\n",
    "df2[\"PRE_work\"].replace(3,4)\n",
    "df2[\"PRE_work\"].replace(5,6)\n",
    "df2[\"PRE_work\"].replace(1,7)\n",
    "df2[\"PRE_relation\"].replace(3,0)"
   ]
  },
  {
   "cell_type": "markdown",
   "metadata": {},
   "source": [
    "### 1.2.8 Create RCI Variable for BDI as outcome"
   ]
  },
  {
   "cell_type": "code",
   "execution_count": null,
   "metadata": {},
   "outputs": [],
   "source": [
    "df2[\"phq_change\"] = df2[\"phq_d_sum\"] - df2[\"phq_post\"]"
   ]
  },
  {
   "cell_type": "code",
   "execution_count": null,
   "metadata": {},
   "outputs": [],
   "source": [
    "df2[\"phq_change_2\"] = np.where(((df2['phq_change'] >= 5) & (df2[\"phq_post\"] <= 9)),0,1)"
   ]
  },
  {
   "cell_type": "code",
   "execution_count": null,
   "metadata": {},
   "outputs": [],
   "source": [
    "import seaborn as sns\n",
    "\n",
    "plt.figure(figsize=(10,5)) # Größe der Graphik festlegen\n",
    "sns.countplot('phq_change_2',data = df2, palette=\"deep\") # Welche Daten? Welche Farbpalette?\n",
    "plt.title(\"Reliable Change on PHQ\",fontsize=20,fontweight=\"bold\") \n",
    "plt.show()"
   ]
  },
  {
   "cell_type": "code",
   "execution_count": null,
   "metadata": {},
   "outputs": [],
   "source": [
    "df2.groupby(\"phq_change_2\")[\"phq_post\"].count()"
   ]
  },
  {
   "cell_type": "code",
   "execution_count": null,
   "metadata": {},
   "outputs": [],
   "source": [
    "plt.figure(figsize=(10,5)) # Größe der Graphik festlegen\n",
    "sns.countplot(\"phq_change_2\",data = df2, palette=\"deep\") # Welche Daten? Welche Farbpalette?\n",
    "plt.title(\"Reliable and Clinically Significant Change on PHQ\",fontsize=20,fontweight=\"bold\") \n",
    "plt.show()"
   ]
  },
  {
   "cell_type": "markdown",
   "metadata": {},
   "source": [
    "### TableOne"
   ]
  },
  {
   "cell_type": "code",
   "execution_count": null,
   "metadata": {},
   "outputs": [],
   "source": [
    "from tableone import TableOne"
   ]
  },
  {
   "cell_type": "code",
   "execution_count": null,
   "metadata": {},
   "outputs": [],
   "source": [
    "convert_cols = ['ipqr_sum','gpse_sum', 'pathev_zuv', 'pathev_fur','pathev_pas', 'costa_sum',\\\n",
    "                'M3_costa_sum', 'M3_sewip_sum'] "
   ]
  },
  {
   "cell_type": "code",
   "execution_count": null,
   "metadata": {},
   "outputs": [],
   "source": [
    "for col in convert_cols:\n",
    "    df2[col] = df2[col].astype(int)"
   ]
  },
  {
   "cell_type": "code",
   "execution_count": null,
   "metadata": {},
   "outputs": [],
   "source": [
    "columns = ['age', 'PRE_sex', 'PRE_education', 'PRE_household', 'PRE_relation', 'PRE_work', \\\n",
    "           'corona_train', 'registration', 'bmi_score', 'phq_d_sum', 'phq_s_sum', 'eurohis_sum', 'imet_sum','gad_sum'\\\n",
    "           ,'ipqr_sum','gpse_sum', 'pathev_zuv', 'pathev_fur','pathev_pas', 'costa_sum', \\\n",
    "            'M3_costa_sum','phq_early_sum', \"M3_sewip_sum\"]"
   ]
  },
  {
   "cell_type": "code",
   "execution_count": null,
   "metadata": {},
   "outputs": [],
   "source": [
    "categorical = ['PRE_education', 'PRE_household', 'PRE_work', 'PRE_relation', 'corona_train', 'registration']"
   ]
  },
  {
   "cell_type": "code",
   "execution_count": null,
   "metadata": {},
   "outputs": [],
   "source": [
    "groupby = 'phq_change_2'"
   ]
  },
  {
   "cell_type": "code",
   "execution_count": null,
   "metadata": {},
   "outputs": [],
   "source": [
    "mytable = TableOne(df2, columns=columns,\n",
    "                   groupby=groupby, categorical=categorical, \\\n",
    "                   pval=True, dip_test=True, normal_test=True, tukey_test=True, smd=True, htest_name=True)"
   ]
  },
  {
   "cell_type": "code",
   "execution_count": null,
   "metadata": {},
   "outputs": [],
   "source": [
    "mytable"
   ]
  },
  {
   "cell_type": "code",
   "execution_count": null,
   "metadata": {},
   "outputs": [],
   "source": [
    "nonnormal = [\"age\", \"bmi_score\", \"gad_sum\", \"imet_sum\", \"phq_d_sum\", \"M3_costa_sum\", \"M3_sewip_sum\", \"PRE_sex\", \\\n",
    "            \"ipqr_sum\", \"pathev_fur\", \"pathev_zuv\", \"phq_early_sum\"]"
   ]
  },
  {
   "cell_type": "code",
   "execution_count": null,
   "metadata": {},
   "outputs": [],
   "source": [
    "mytable = TableOne(df2, columns=columns,\n",
    "                   groupby=groupby, categorical=categorical, nonnormal = nonnormal,\\\n",
    "                   pval=True, dip_test=True, normal_test=True, tukey_test=True, smd=True, htest_name=True)"
   ]
  },
  {
   "cell_type": "code",
   "execution_count": null,
   "metadata": {},
   "outputs": [],
   "source": [
    "mytable"
   ]
  },
  {
   "cell_type": "code",
   "execution_count": null,
   "metadata": {},
   "outputs": [],
   "source": [
    "print(mytable.tabulate(tablefmt=\"github\"))\n"
   ]
  },
  {
   "cell_type": "code",
   "execution_count": null,
   "metadata": {},
   "outputs": [],
   "source": [
    "# Save to Excel\n",
    "fn1 = 'demographics.xlsx'\n",
    "mytable.to_excel(fn1)"
   ]
  },
  {
   "cell_type": "code",
   "execution_count": null,
   "metadata": {},
   "outputs": [],
   "source": [
    "import math"
   ]
  },
  {
   "cell_type": "code",
   "execution_count": null,
   "metadata": {},
   "outputs": [],
   "source": [
    "math.exp(-6)*1.76"
   ]
  },
  {
   "cell_type": "code",
   "execution_count": null,
   "metadata": {},
   "outputs": [],
   "source": []
  }
 ],
 "metadata": {
  "kernelspec": {
   "display_name": "Python 3",
   "language": "python",
   "name": "python3"
  },
  "language_info": {
   "codemirror_mode": {
    "name": "ipython",
    "version": 3
   },
   "file_extension": ".py",
   "mimetype": "text/x-python",
   "name": "python",
   "nbconvert_exporter": "python",
   "pygments_lexer": "ipython3",
   "version": "3.7.4"
  }
 },
 "nbformat": 4,
 "nbformat_minor": 2
}
